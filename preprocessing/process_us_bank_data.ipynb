{
 "cells": [
  {
   "cell_type": "code",
   "execution_count": 2,
   "metadata": {},
   "outputs": [
    {
     "name": "stderr",
     "output_type": "stream",
     "text": [
      "/var/folders/qj/gh_j11514m37mqtfrlr885k40000gn/T/ipykernel_64556/1841898131.py:3: DtypeWarning: Columns (29) have mixed types. Specify dtype option on import or set low_memory=False.\n",
      "  us_banks = pd.read_csv('data/usbanks_locations.csv')\n"
     ]
    }
   ],
   "source": [
    "import pandas as pd\n",
    "import numpy as np\n",
    "us_banks = pd.read_csv('data/usbanks_locations.csv')"
   ]
  },
  {
   "attachments": {},
   "cell_type": "markdown",
   "metadata": {},
   "source": [
    "## Creating data to control for any commercial banking"
   ]
  },
  {
   "cell_type": "code",
   "execution_count": 3,
   "metadata": {},
   "outputs": [
    {
     "data": {
      "text/plain": [
       "1571"
      ]
     },
     "execution_count": 3,
     "metadata": {},
     "output_type": "execute_result"
    }
   ],
   "source": [
    "len(us_banks[us_banks['COUNTY'].isin(['Bronx', 'Kings', 'New York', 'Queens', 'Richmond'])])"
   ]
  },
  {
   "cell_type": "code",
   "execution_count": 4,
   "metadata": {},
   "outputs": [],
   "source": [
    "nyc_banks = us_banks[us_banks['COUNTY'].isin(['Bronx', 'Kings', 'New York', 'Queens', 'Richmond'])]"
   ]
  },
  {
   "cell_type": "code",
   "execution_count": 5,
   "metadata": {},
   "outputs": [],
   "source": [
    "def format(address, city, zip):\n",
    "    address = address.replace(\" \", \"+\")\n",
    "    city = city.replace(\" \", \"+\")\n",
    "    return address + '%2C+' + city + '%2C+NY%2C+' + str(zip)\n",
    "\n",
    "def format_row_address(row):\n",
    "    return format(row['ADDRESS'],row['CITY'],row['ZIP'])\n",
    "\n",
    "def format_normal_address(row):\n",
    "    return row['ADDRESS'] + ', ' + row['CITY'] + ', NY, ' + str(row['ZIP'])\n",
    "\n",
    "formatted_rows_column = nyc_banks.apply(lambda x: format_row_address(x), axis=1)\n",
    "formatted_rows_normal = nyc_banks.apply(lambda x: format_normal_address(x), axis=1)"
   ]
  },
  {
   "cell_type": "code",
   "execution_count": 6,
   "metadata": {},
   "outputs": [
    {
     "data": {
      "text/plain": [
       "'31-81 Steinway Street, Astoria, NY, 11103'"
      ]
     },
     "execution_count": 6,
     "metadata": {},
     "output_type": "execute_result"
    }
   ],
   "source": [
    "formatted_rows_normal.iloc[30]"
   ]
  },
  {
   "cell_type": "code",
   "execution_count": 7,
   "metadata": {},
   "outputs": [
    {
     "name": "stderr",
     "output_type": "stream",
     "text": [
      "/var/folders/qj/gh_j11514m37mqtfrlr885k40000gn/T/ipykernel_64556/4134371361.py:1: SettingWithCopyWarning: \n",
      "A value is trying to be set on a copy of a slice from a DataFrame.\n",
      "Try using .loc[row_indexer,col_indexer] = value instead\n",
      "\n",
      "See the caveats in the documentation: https://pandas.pydata.org/pandas-docs/stable/user_guide/indexing.html#returning-a-view-versus-a-copy\n",
      "  nyc_banks['formatted_address'] = formatted_rows_normal\n"
     ]
    }
   ],
   "source": [
    "nyc_banks['formatted_address'] = formatted_rows_normal"
   ]
  },
  {
   "cell_type": "code",
   "execution_count": 8,
   "metadata": {},
   "outputs": [],
   "source": [
    "import requests\n",
    "\n",
    "# location given here\n",
    "address = formatted_rows_normal.iloc[30]\n",
    "\n",
    "def lookup_tract(address):\n",
    "    # api-endpoint\n",
    "    URL = \"https://geocoding.geo.census.gov/geocoder/geographies/onelineaddress?\"\n",
    "    \n",
    "    # defining a params dict for the parameters to be sent to the API\n",
    "    PARAMS = {'address': address,\n",
    "            'benchmark':'2020',\n",
    "            'vintage':'2010',\n",
    "            'format':'json'}\n",
    "    \n",
    "    # sending get request and saving the response as response object\n",
    "    r = requests.get(url = URL, params = PARAMS)\n",
    "    \n",
    "    # extracting data in json format\n",
    "    data = r.json()\n",
    "\n",
    "    # return tract\n",
    "    try:\n",
    "        return data['result']['addressMatches'][0]['geographies']['Census Tracts'][0]['TRACT'],data['result']['addressMatches'][0]['geographies']['County Subdivisions'][0]['BASENAME']\n",
    "    except:\n",
    "        return '-1','-1'"
   ]
  },
  {
   "cell_type": "code",
   "execution_count": null,
   "metadata": {},
   "outputs": [],
   "source": [
    "def associate_tract_with_address(row):\n",
    "    return lookup_tract(row['formatted_address'])\n",
    "\n",
    "tracts = nyc_banks.apply(lambda x: associate_tract_with_address(x), axis=1)"
   ]
  },
  {
   "cell_type": "code",
   "execution_count": null,
   "metadata": {},
   "outputs": [
    {
     "name": "stderr",
     "output_type": "stream",
     "text": [
      "/var/folders/qj/gh_j11514m37mqtfrlr885k40000gn/T/ipykernel_47248/110791871.py:1: SettingWithCopyWarning: \n",
      "A value is trying to be set on a copy of a slice from a DataFrame.\n",
      "Try using .loc[row_indexer,col_indexer] = value instead\n",
      "\n",
      "See the caveats in the documentation: https://pandas.pydata.org/pandas-docs/stable/user_guide/indexing.html#returning-a-view-versus-a-copy\n",
      "  nyc_banks['tract'] = tracts\n"
     ]
    }
   ],
   "source": [
    "nyc_banks['tract'] = tracts"
   ]
  },
  {
   "cell_type": "code",
   "execution_count": null,
   "metadata": {},
   "outputs": [],
   "source": [
    "nyc_banks.to_csv('nyc_banks_subboro.csv')"
   ]
  }
 ],
 "metadata": {
  "kernelspec": {
   "display_name": "heuristic_fairness",
   "language": "python",
   "name": "python3"
  },
  "language_info": {
   "codemirror_mode": {
    "name": "ipython",
    "version": 3
   },
   "file_extension": ".py",
   "mimetype": "text/x-python",
   "name": "python",
   "nbconvert_exporter": "python",
   "pygments_lexer": "ipython3",
   "version": "3.8.12"
  },
  "orig_nbformat": 4,
  "vscode": {
   "interpreter": {
    "hash": "6597d1ed23b894caf154b6750f098a8514a19e03807460ffd2d8425103778dc0"
   }
  }
 },
 "nbformat": 4,
 "nbformat_minor": 2
}
