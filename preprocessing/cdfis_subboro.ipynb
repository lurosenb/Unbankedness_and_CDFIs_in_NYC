{
 "cells": [
  {
   "cell_type": "code",
   "execution_count": 2,
   "metadata": {},
   "outputs": [],
   "source": [
    "import pandas as pd\n",
    "import numpy as np\n",
    "cdfis = pd.read_csv('data/cdfis.csv') # from cdfis 2022 govfund"
   ]
  },
  {
   "cell_type": "code",
   "execution_count": null,
   "metadata": {},
   "outputs": [],
   "source": [
    "import requests\n",
    "\n",
    "# location given here\n",
    "address = formatted_rows_normal.iloc[30]\n",
    "\n",
    "def lookup_tract(address):\n",
    "    # api-endpoint\n",
    "    URL = \"https://geocoding.geo.census.gov/geocoder/geographies/onelineaddress?\"\n",
    "    \n",
    "    # defining a params dict for the parameters to be sent to the API\n",
    "    PARAMS = {'address': address,\n",
    "            'benchmark':'2020',\n",
    "            'vintage':'2010',\n",
    "            'format':'json'}\n",
    "    \n",
    "    # sending get request and saving the response as response object\n",
    "    r = requests.get(url = URL, params = PARAMS)\n",
    "    \n",
    "    # extracting data in json format\n",
    "    data = r.json()\n",
    "\n",
    "    # return tract\n",
    "    try:\n",
    "        return data['result']['addressMatches'][0]['geographies']['Census Tracts'][0]['TRACT'],data['result']['addressMatches'][0]['geographies']['County Subdivisions'][0]['BASENAME']\n",
    "    except:\n",
    "        return '-1','-1'"
   ]
  },
  {
   "cell_type": "code",
   "execution_count": null,
   "metadata": {},
   "outputs": [],
   "source": [
    "def format_cdfi_address(row):\n",
    "    return row['Address1'] + ', ' + row['City'] + ', NY, ' + str(row['Zipcode'])\n",
    "\n",
    "formatted_rows_column = cdfis.apply(lambda x: format_cdfi_address(x), axis=1)"
   ]
  },
  {
   "cell_type": "code",
   "execution_count": null,
   "metadata": {},
   "outputs": [],
   "source": [
    "cdfis['address_for_url'] = formatted_rows_column"
   ]
  },
  {
   "cell_type": "code",
   "execution_count": null,
   "metadata": {},
   "outputs": [],
   "source": [
    "def associate_tract_with_address(row):\n",
    "    return lookup_tract(row['address_for_url'])\n",
    "\n",
    "tracts = cdfis.apply(lambda x: associate_tract_with_address(x), axis=1)"
   ]
  },
  {
   "cell_type": "code",
   "execution_count": null,
   "metadata": {},
   "outputs": [],
   "source": [
    "cdfis['tract'] = tracts"
   ]
  },
  {
   "cell_type": "code",
   "execution_count": null,
   "metadata": {},
   "outputs": [
    {
     "name": "stdout",
     "output_type": "stream",
     "text": [
      "1800\n",
      "700\n",
      "700\n",
      "18100\n",
      "1100\n",
      "43300\n",
      "20000\n",
      "51200\n",
      "19600\n",
      "19900\n",
      "10900\n",
      "20500\n",
      "10900\n",
      "8800\n",
      "1300\n",
      "7100\n",
      "10200\n",
      "23501\n",
      "1502\n",
      "9500\n",
      "1502\n",
      "20901\n",
      "700\n",
      "2601\n",
      "1300\n",
      "10000\n",
      "11100\n",
      "25100\n",
      "18500\n",
      "5700\n",
      "900\n",
      "9200\n",
      "9200\n",
      "1300\n",
      "9600\n",
      "9600\n",
      "1800\n",
      "9600\n",
      "19700\n",
      "900\n",
      "10900\n",
      "1501\n",
      "8400\n",
      "20000\n",
      "2500\n",
      "900\n",
      "900\n"
     ]
    }
   ],
   "source": [
    "subboro_cdfis = pd.DataFrame(columns=unbanked.columns)\n",
    "unfound = []\n",
    "subboro_column = []\n",
    "cdfis_tracts = []\n",
    "for tract, borough in cdfis['tract']:\n",
    "    tract = int(tract)\n",
    "    try:\n",
    "        subboro = get_subboro(borough, tract)\n",
    "    except Exception as e:\n",
    "        unfound.append((borough, tract))\n",
    "        subboro = 'UNFOUND'\n",
    "    subboro_column.append(subboro)\n",
    "    cdfis_tracts.append(tract)\n",
    "    \n",
    "cdfis['Sub Boro Name'] = subboro_column\n",
    "cdfis['Tract'] = cdfis_tracts"
   ]
  }
 ],
 "metadata": {
  "kernelspec": {
   "display_name": "heuristic_fairness",
   "language": "python",
   "name": "python3"
  },
  "language_info": {
   "codemirror_mode": {
    "name": "ipython",
    "version": 3
   },
   "file_extension": ".py",
   "mimetype": "text/x-python",
   "name": "python",
   "nbconvert_exporter": "python",
   "pygments_lexer": "ipython3",
   "version": "3.8.12"
  },
  "orig_nbformat": 4,
  "vscode": {
   "interpreter": {
    "hash": "6597d1ed23b894caf154b6750f098a8514a19e03807460ffd2d8425103778dc0"
   }
  }
 },
 "nbformat": 4,
 "nbformat_minor": 2
}
